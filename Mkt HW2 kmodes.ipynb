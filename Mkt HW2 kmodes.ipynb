{
 "cells": [
  {
   "cell_type": "code",
   "execution_count": 1,
   "metadata": {},
   "outputs": [],
   "source": [
    "#basic\n",
    "import numpy as np\n",
    "import pandas as pd\n",
    "from sklearn.preprocessing import StandardScaler\n",
    "\n",
    "#cluster\n",
    "from sklearn.cluster import KMeans\n",
    "from sklearn.preprocessing import OneHotEncoder # one hot coding\n",
    "from sklearn import preprocessing\n",
    "from sklearn.model_selection import train_test_split\n",
    "from sklearn.preprocessing import StandardScaler # Standarization\n",
    "# Import module for k-protoype cluster\n",
    "from kmodes.kmodes import KModes\n",
    "from collections import Counter, defaultdict # coun the number of samples in each cluster\n",
    "\n",
    "\n",
    "#plot\n",
    "import matplotlib.pyplot as plt\n",
    "# Import module for data visualization\n",
    "from plotnine import *\n",
    "import plotnine\n",
    "# Use the theme of ggplot\n",
    "plt.style.use('ggplot')\n"
   ]
  },
  {
   "cell_type": "markdown",
   "metadata": {},
   "source": [
    "### Original data with Kmodes"
   ]
  },
  {
   "cell_type": "code",
   "execution_count": 2,
   "metadata": {},
   "outputs": [
    {
     "data": {
      "text/html": [
       "<div>\n",
       "<style scoped>\n",
       "    .dataframe tbody tr th:only-of-type {\n",
       "        vertical-align: middle;\n",
       "    }\n",
       "\n",
       "    .dataframe tbody tr th {\n",
       "        vertical-align: top;\n",
       "    }\n",
       "\n",
       "    .dataframe thead th {\n",
       "        text-align: right;\n",
       "    }\n",
       "</style>\n",
       "<table border=\"1\" class=\"dataframe\">\n",
       "  <thead>\n",
       "    <tr style=\"text-align: right;\">\n",
       "      <th></th>\n",
       "      <th>location</th>\n",
       "      <th>item_name</th>\n",
       "      <th>item_count</th>\n",
       "      <th>month</th>\n",
       "      <th>hour</th>\n",
       "    </tr>\n",
       "  </thead>\n",
       "  <tbody>\n",
       "    <tr>\n",
       "      <th>0</th>\n",
       "      <td>4</td>\n",
       "      <td>shake</td>\n",
       "      <td>2</td>\n",
       "      <td>02</td>\n",
       "      <td>18</td>\n",
       "    </tr>\n",
       "    <tr>\n",
       "      <th>1</th>\n",
       "      <td>4</td>\n",
       "      <td>burger</td>\n",
       "      <td>2</td>\n",
       "      <td>02</td>\n",
       "      <td>18</td>\n",
       "    </tr>\n",
       "    <tr>\n",
       "      <th>2</th>\n",
       "      <td>4</td>\n",
       "      <td>fries</td>\n",
       "      <td>2</td>\n",
       "      <td>02</td>\n",
       "      <td>18</td>\n",
       "    </tr>\n",
       "    <tr>\n",
       "      <th>3</th>\n",
       "      <td>5</td>\n",
       "      <td>burger</td>\n",
       "      <td>1</td>\n",
       "      <td>09</td>\n",
       "      <td>11</td>\n",
       "    </tr>\n",
       "    <tr>\n",
       "      <th>4</th>\n",
       "      <td>5</td>\n",
       "      <td>salad</td>\n",
       "      <td>2</td>\n",
       "      <td>09</td>\n",
       "      <td>11</td>\n",
       "    </tr>\n",
       "    <tr>\n",
       "      <th>...</th>\n",
       "      <td>...</td>\n",
       "      <td>...</td>\n",
       "      <td>...</td>\n",
       "      <td>...</td>\n",
       "      <td>...</td>\n",
       "    </tr>\n",
       "    <tr>\n",
       "      <th>260736</th>\n",
       "      <td>9</td>\n",
       "      <td>burger</td>\n",
       "      <td>3</td>\n",
       "      <td>05</td>\n",
       "      <td>17</td>\n",
       "    </tr>\n",
       "    <tr>\n",
       "      <th>260737</th>\n",
       "      <td>9</td>\n",
       "      <td>salad</td>\n",
       "      <td>1</td>\n",
       "      <td>05</td>\n",
       "      <td>17</td>\n",
       "    </tr>\n",
       "    <tr>\n",
       "      <th>260738</th>\n",
       "      <td>9</td>\n",
       "      <td>fries</td>\n",
       "      <td>4</td>\n",
       "      <td>05</td>\n",
       "      <td>17</td>\n",
       "    </tr>\n",
       "    <tr>\n",
       "      <th>260739</th>\n",
       "      <td>2</td>\n",
       "      <td>burger</td>\n",
       "      <td>3</td>\n",
       "      <td>12</td>\n",
       "      <td>00</td>\n",
       "    </tr>\n",
       "    <tr>\n",
       "      <th>260740</th>\n",
       "      <td>2</td>\n",
       "      <td>fries</td>\n",
       "      <td>3</td>\n",
       "      <td>12</td>\n",
       "      <td>00</td>\n",
       "    </tr>\n",
       "  </tbody>\n",
       "</table>\n",
       "<p>260741 rows × 5 columns</p>\n",
       "</div>"
      ],
      "text/plain": [
       "        location item_name  item_count month hour\n",
       "0              4     shake           2    02   18\n",
       "1              4    burger           2    02   18\n",
       "2              4     fries           2    02   18\n",
       "3              5    burger           1    09   11\n",
       "4              5     salad           2    09   11\n",
       "...          ...       ...         ...   ...  ...\n",
       "260736         9    burger           3    05   17\n",
       "260737         9     salad           1    05   17\n",
       "260738         9     fries           4    05   17\n",
       "260739         2    burger           3    12   00\n",
       "260740         2     fries           3    12   00\n",
       "\n",
       "[260741 rows x 5 columns]"
      ]
     },
     "execution_count": 2,
     "metadata": {},
     "output_type": "execute_result"
    }
   ],
   "source": [
    "# Reference: https://medium.com/geekculture/the-k-modes-as-clustering-algorithm-for-categorical-data-type-bcde8f95efd7\n",
    "df = pd.read_csv(\"transactions_n100000.csv\")\n",
    "df.head()\n",
    "\n",
    "# Split time and date into month and hour\n",
    "new = df[\"order_timestamp\"].str.split(\" \", expand = True)\n",
    "month = new[0].str.split(\"-\",expand = True)[1]\n",
    "hour = new[1].str.split(\":\",expand=True)[0]\n",
    "df['month'] = month\n",
    "df['hour'] = hour\n",
    "df.drop('order_timestamp', axis=1, inplace=True)\n",
    "\n",
    "# drop latitude and longitude\n",
    "df.drop(columns = ['lat',\"long\",\"ticket_id\"], axis=1, inplace=True)\n",
    "\n",
    "df"
   ]
  },
  {
   "cell_type": "code",
   "execution_count": null,
   "metadata": {},
   "outputs": [],
   "source": []
  },
  {
   "cell_type": "code",
   "execution_count": 3,
   "metadata": {},
   "outputs": [
    {
     "name": "stdout",
     "output_type": "stream",
     "text": [
      "<class 'pandas.core.frame.DataFrame'>\n",
      "RangeIndex: 260741 entries, 0 to 260740\n",
      "Data columns (total 5 columns):\n",
      " #   Column      Non-Null Count   Dtype \n",
      "---  ------      --------------   ----- \n",
      " 0   location    260741 non-null  int64 \n",
      " 1   item_name   260741 non-null  object\n",
      " 2   item_count  260741 non-null  int64 \n",
      " 3   month       260741 non-null  object\n",
      " 4   hour        260741 non-null  object\n",
      "dtypes: int64(2), object(3)\n",
      "memory usage: 9.9+ MB\n",
      "None\n",
      "<class 'pandas.core.frame.DataFrame'>\n",
      "RangeIndex: 260741 entries, 0 to 260740\n",
      "Data columns (total 5 columns):\n",
      " #   Column      Non-Null Count   Dtype \n",
      "---  ------      --------------   ----- \n",
      " 0   location    260741 non-null  object\n",
      " 1   item_name   260741 non-null  object\n",
      " 2   item_count  260741 non-null  object\n",
      " 3   month       260741 non-null  object\n",
      " 4   hour        260741 non-null  object\n",
      "dtypes: object(5)\n",
      "memory usage: 9.9+ MB\n",
      "None\n"
     ]
    },
    {
     "data": {
      "text/plain": [
       "location       9\n",
       "item_name      4\n",
       "item_count     5\n",
       "month         12\n",
       "hour          15\n",
       "dtype: int64"
      ]
     },
     "execution_count": 3,
     "metadata": {},
     "output_type": "execute_result"
    }
   ],
   "source": [
    "print(df.info())\n",
    "#change location into an object\n",
    "df[\"location\"] = df[\"location\"].astype(\"str\")\n",
    "df[\"item_count\"] = df[\"item_count\"].astype(\"str\")\n",
    "print(df.info())\n",
    "df.select_dtypes('object').nunique()"
   ]
  },
  {
   "cell_type": "code",
   "execution_count": 4,
   "metadata": {},
   "outputs": [
    {
     "name": "stdout",
     "output_type": "stream",
     "text": [
      "  location item_name item_count month hour\n",
      "0        4     shake          2    02   18\n",
      "1        4    burger          2    02   18\n",
      "2        4     fries          2    02   18\n",
      "3        5    burger          1    09   11\n",
      "4        5     salad          2    09   11\n"
     ]
    },
    {
     "data": {
      "text/plain": [
       "location      0\n",
       "item_name     0\n",
       "item_count    0\n",
       "month         0\n",
       "hour          0\n",
       "dtype: int64"
      ]
     },
     "execution_count": 4,
     "metadata": {},
     "output_type": "execute_result"
    }
   ],
   "source": [
    "# Select the categorical columns\n",
    "cols = df.select_dtypes('object').columns # eliminated \"item_count\"\n",
    "df_cat = df[cols]\n",
    "# Show the data\n",
    "print(df_cat.head())\n",
    "# Check missing value\n",
    "df_cat.isna().sum() # no missing value"
   ]
  },
  {
   "cell_type": "code",
   "execution_count": 5,
   "metadata": {},
   "outputs": [
    {
     "data": {
      "text/plain": [
       "array([['4', 'shake', '2', '02', '18'],\n",
       "       ['4', 'burger', '2', '02', '18'],\n",
       "       ['4', 'fries', '2', '02', '18'],\n",
       "       ...,\n",
       "       ['9', 'fries', '4', '05', '17'],\n",
       "       ['2', 'burger', '3', '12', '00'],\n",
       "       ['2', 'fries', '3', '12', '00']], dtype=object)"
      ]
     },
     "execution_count": 5,
     "metadata": {},
     "output_type": "execute_result"
    }
   ],
   "source": [
    "# Convert dataframe to matrix\n",
    "dfMatrix = df_cat.to_numpy()\n",
    "dfMatrix"
   ]
  },
  {
   "cell_type": "code",
   "execution_count": 6,
   "metadata": {
    "scrolled": true
   },
   "outputs": [
    {
     "name": "stdout",
     "output_type": "stream",
     "text": [
      "Cluster initiation: 1\n",
      "Cluster initiation: 2\n",
      "Cluster initiation: 3\n",
      "Cluster initiation: 4\n",
      "Cluster initiation: 5\n",
      "Cluster initiation: 6\n",
      "Cluster initiation: 7\n",
      "Cluster initiation: 8\n",
      "Cluster initiation: 9\n"
     ]
    },
    {
     "data": {
      "image/png": "[encoded data removed]",
      "text/plain": [
       "<Figure size 800x480 with 1 Axes>"
      ]
     },
     "metadata": {
      "needs_background": "light"
     },
     "output_type": "display_data"
    },
    {
     "data": {
      "text/plain": [
       "<ggplot: (8776206393591)>"
      ]
     },
     "execution_count": 6,
     "metadata": {},
     "output_type": "execute_result"
    }
   ],
   "source": [
    "# Choosing optimal K\n",
    "cost = []\n",
    "for cluster in range(1, 10):\n",
    "    try:\n",
    "        kmodes = KModes(n_jobs = -1, n_clusters = cluster, init = 'Huang', random_state = 0)\n",
    "        kmodes.fit_predict(dfMatrix)\n",
    "        cost.append(kmodes.cost_)\n",
    "        print('Cluster initiation: {}'.format(cluster))\n",
    "    except:\n",
    "        break\n",
    "        \n",
    "# Converting the results into a dataframe and plotting them\n",
    "df_cost = pd.DataFrame({'Cluster': range(1, 10), 'Cost': cost})\n",
    "\n",
    "# Data viz\n",
    "plotnine.options.figure_size = (8, 4.8)\n",
    "(\n",
    "    ggplot(data = df_cost)+\n",
    "    geom_line(aes(x = 'Cluster',\n",
    "                  y = 'Cost'))+\n",
    "    geom_point(aes(x = 'Cluster',\n",
    "                   y = 'Cost'))+\n",
    "    geom_label(aes(x = 'Cluster',\n",
    "                   y = 'Cost',\n",
    "                   label = 'Cluster'),\n",
    "               size = 10,\n",
    "               nudge_y = 1000) +\n",
    "    labs(title = 'Optimal number of cluster with Elbow Method')+\n",
    "    xlab('Number of Clusters k')+\n",
    "    ylab('Cost')+\n",
    "    theme_minimal()\n",
    ")"
   ]
  },
  {
   "cell_type": "code",
   "execution_count": 7,
   "metadata": {},
   "outputs": [
    {
     "data": {
      "text/plain": [
       "array([['4', 'shake', '3', '06', '19'],\n",
       "       ['2', 'fries', '1', '11', '00'],\n",
       "       ['7', 'fries', '2', '01', '13'],\n",
       "       ['9', 'burger', '4', '12', '18']], dtype='<U6')"
      ]
     },
     "execution_count": 7,
     "metadata": {},
     "output_type": "execute_result"
    }
   ],
   "source": [
    "# Fit the cluster with cluster = 4\n",
    "kmodes = KModes(n_jobs = -1, n_clusters = 4, init = 'Huang', random_state = 0)\n",
    "kmodes.fit_predict(dfMatrix)\n",
    "\n",
    "kmodes.cluster_centroids_"
   ]
  },
  {
   "cell_type": "code",
   "execution_count": 8,
   "metadata": {},
   "outputs": [
    {
     "data": {
      "text/plain": [
       "array([['1', 'shake', '1', '12', '13'],\n",
       "       ['2', 'fries', '2', '11', '00'],\n",
       "       ['7', 'burger', '4', '04', '18'],\n",
       "       ['4', 'fries', '4', '07', '18'],\n",
       "       ['7', 'shake', '1', '10', '01']], dtype='<U6')"
      ]
     },
     "execution_count": 8,
     "metadata": {},
     "output_type": "execute_result"
    }
   ],
   "source": [
    "# Fit the cluster with cluster = 6\n",
    "kmodes = KModes(n_jobs = -1, n_clusters = 5, init = 'Huang', random_state = 0)\n",
    "kmodes.fit_predict(dfMatrix)\n",
    "\n",
    "kmodes.cluster_centroids_"
   ]
  },
  {
   "cell_type": "code",
   "execution_count": null,
   "metadata": {},
   "outputs": [],
   "source": [
    "#pd.read_csv(\"transactions_n100000.csv\")[df[\"location\"] == \"9\"]"
   ]
  },
  {
   "cell_type": "code",
   "execution_count": null,
   "metadata": {},
   "outputs": [],
   "source": []
  },
  {
   "cell_type": "markdown",
   "metadata": {},
   "source": [
    "### Pivot table with Kmeans"
   ]
  },
  {
   "cell_type": "code",
   "execution_count": 9,
   "metadata": {},
   "outputs": [],
   "source": [
    "df_pv = pd.read_excel(\"transactions_n100000_pivot.xlsx\")\n",
    "df_pv.fillna(0,inplace = True) # fill all the missing values with 0"
   ]
  },
  {
   "cell_type": "code",
   "execution_count": 224,
   "metadata": {},
   "outputs": [
    {
     "name": "stdout",
     "output_type": "stream",
     "text": [
      "<class 'pandas.core.frame.DataFrame'>\n",
      "RangeIndex: 100000 entries, 0 to 99999\n",
      "Data columns (total 5 columns):\n",
      " #   Column     Non-Null Count   Dtype  \n",
      "---  ------     --------------   -----  \n",
      " 0   ticket_id  100000 non-null  object \n",
      " 1   burger     100000 non-null  float64\n",
      " 2   fries      100000 non-null  int64  \n",
      " 3   salad      100000 non-null  float64\n",
      " 4   shake      100000 non-null  float64\n",
      "dtypes: float64(3), int64(1), object(1)\n",
      "memory usage: 3.8+ MB\n"
     ]
    }
   ],
   "source": [
    "#df_pv.drop(columns= [\"Grand Total\"], axis=1, inplace=True) # drop columns \"ticket id\" and \"grand total\"\n",
    "df_pv.info()"
   ]
  },
  {
   "cell_type": "code",
   "execution_count": 10,
   "metadata": {},
   "outputs": [
    {
     "data": {
      "image/png": "[encoded data removed]",
      "text/plain": [
       "<Figure size 432x288 with 1 Axes>"
      ]
     },
     "metadata": {},
     "output_type": "display_data"
    }
   ],
   "source": [
    "# Run the k means model with elbow test\n",
    "sse_ls = []\n",
    "for i in range(1,11):\n",
    "    kmeans = KMeans(n_clusters=i)\n",
    "    kmeans.fit(df_pv.drop('ticket_id',axis=1)) # drop ticket id in the model\n",
    "    sse_ls.append(kmeans.inertia_)\n",
    "\n",
    "plt.plot(range(1, 11), sse_ls)\n",
    "plt.xticks(range(1, 11))\n",
    "plt.xlabel(\"Number of Clusters\")\n",
    "plt.ylabel(\"SSE\")\n",
    "plt.show()"
   ]
  },
  {
   "cell_type": "code",
   "execution_count": 11,
   "metadata": {},
   "outputs": [
    {
     "data": {
      "text/plain": [
       "array([[3.93799921, 4.08471913, 0.14671992, 3.36778185],\n",
       "       [1.21417669, 1.49333496, 0.27915827, 0.38647048],\n",
       "       [0.28978587, 2.88993355, 2.60014767, 0.11223234]])"
      ]
     },
     "execution_count": 11,
     "metadata": {},
     "output_type": "execute_result"
    }
   ],
   "source": [
    "# cluster of 3\n",
    "kmeans = KMeans(n_clusters=3,random_state=42)\n",
    "kmeans.fit(df_pv.drop('ticket_id',axis=1))\n",
    "kmeans.cluster_centers_"
   ]
  },
  {
   "cell_type": "code",
   "execution_count": 12,
   "metadata": {},
   "outputs": [
    {
     "name": "stdout",
     "output_type": "stream",
     "text": [
      "Counter({1: 49137, 0: 30548, 2: 20315})\n"
     ]
    }
   ],
   "source": [
    "# The number of samples in each cluster is shown as below\n",
    "print(Counter(kmeans.labels_))"
   ]
  },
  {
   "cell_type": "code",
   "execution_count": 13,
   "metadata": {},
   "outputs": [
    {
     "data": {
      "text/html": [
       "<div>\n",
       "<style scoped>\n",
       "    .dataframe tbody tr th:only-of-type {\n",
       "        vertical-align: middle;\n",
       "    }\n",
       "\n",
       "    .dataframe tbody tr th {\n",
       "        vertical-align: top;\n",
       "    }\n",
       "\n",
       "    .dataframe thead th {\n",
       "        text-align: right;\n",
       "    }\n",
       "</style>\n",
       "<table border=\"1\" class=\"dataframe\">\n",
       "  <thead>\n",
       "    <tr style=\"text-align: right;\">\n",
       "      <th></th>\n",
       "      <th>burger</th>\n",
       "      <th>fries</th>\n",
       "      <th>salad</th>\n",
       "      <th>shake</th>\n",
       "    </tr>\n",
       "  </thead>\n",
       "  <tbody>\n",
       "    <tr>\n",
       "      <th>0</th>\n",
       "      <td>3.937999</td>\n",
       "      <td>4.084719</td>\n",
       "      <td>0.146720</td>\n",
       "      <td>3.367782</td>\n",
       "    </tr>\n",
       "    <tr>\n",
       "      <th>1</th>\n",
       "      <td>1.214177</td>\n",
       "      <td>1.493335</td>\n",
       "      <td>0.279158</td>\n",
       "      <td>0.386470</td>\n",
       "    </tr>\n",
       "    <tr>\n",
       "      <th>2</th>\n",
       "      <td>0.289786</td>\n",
       "      <td>2.889934</td>\n",
       "      <td>2.600148</td>\n",
       "      <td>0.112232</td>\n",
       "    </tr>\n",
       "  </tbody>\n",
       "</table>\n",
       "</div>"
      ],
      "text/plain": [
       "     burger     fries     salad     shake\n",
       "0  3.937999  4.084719  0.146720  3.367782\n",
       "1  1.214177  1.493335  0.279158  0.386470\n",
       "2  0.289786  2.889934  2.600148  0.112232"
      ]
     },
     "execution_count": 13,
     "metadata": {},
     "output_type": "execute_result"
    }
   ],
   "source": [
    "# Create an index for cluster interpretation\n",
    "\n",
    "# Columns for centroids\n",
    "list_col = ['burger', 'fries', 'salad','shake']\n",
    "# Create an index for cluster interpretation\n",
    "#index = ['First Cluster', 'Second Cluster', 'Third Cluster',\"Fourth Cluster\"]\n",
    "\n",
    "# Create the data frame\n",
    "pd.DataFrame(kmeans.cluster_centers_, columns = list_col)"
   ]
  },
  {
   "cell_type": "code",
   "execution_count": null,
   "metadata": {},
   "outputs": [],
   "source": []
  },
  {
   "cell_type": "markdown",
   "metadata": {},
   "source": [
    "### Kmeans with all data"
   ]
  },
  {
   "cell_type": "code",
   "execution_count": 14,
   "metadata": {},
   "outputs": [],
   "source": [
    "# cluster with month, time, and location\n",
    "\n",
    "# 1. merge the data frame with month and time\n",
    "\n",
    "df_full = pd.read_csv(\"transactions_n100000.csv\")\n",
    "\n",
    "# Split time and date into month and hour\n",
    "new = df_full[\"order_timestamp\"].str.split(\" \", expand = True)\n",
    "month = new[0].str.split(\"-\",expand = True)[1]\n",
    "hour = new[1].str.split(\":\",expand=True)[0]\n",
    "df_full['month'] = month\n",
    "df_full['hour'] = hour\n",
    "df_full.drop('order_timestamp', axis=1, inplace=True)\n",
    "df_full.drop_duplicates(\"ticket_id\",keep = \"first\",inplace = True) # keep only the unique ticket_id\n",
    "df_final = df_pv.merge(df_full, \"left\", on = \"ticket_id\")"
   ]
  },
  {
   "cell_type": "code",
   "execution_count": 16,
   "metadata": {},
   "outputs": [],
   "source": [
    "# drop location, item_name, lat, long,item_count\n",
    "df_final.drop(columns = ['item_name',\"item_count\",\"lat\",\"long\"], axis=1, inplace=True)"
   ]
  },
  {
   "cell_type": "code",
   "execution_count": 17,
   "metadata": {},
   "outputs": [
    {
     "data": {
      "image/png": "[encoded data removed]",
      "text/plain": [
       "<Figure size 432x288 with 1 Axes>"
      ]
     },
     "metadata": {},
     "output_type": "display_data"
    }
   ],
   "source": [
    "# Run the k means model with elbow test\n",
    "sse_ls = []\n",
    "for i in range(1,11):\n",
    "    kmeans = KMeans(n_clusters=i)\n",
    "    kmeans.fit(df_final.drop('ticket_id',axis=1)) # drop ticket id in the model\n",
    "    sse_ls.append(kmeans.inertia_)\n",
    "\n",
    "plt.plot(range(1, 11), sse_ls)\n",
    "plt.xticks(range(1, 11))\n",
    "plt.xlabel(\"Number of Clusters\")\n",
    "plt.ylabel(\"SSE\")\n",
    "plt.show()"
   ]
  },
  {
   "cell_type": "code",
   "execution_count": 18,
   "metadata": {},
   "outputs": [
    {
     "data": {
      "text/plain": [
       "array([[ 3.17061563,  3.37089915,  0.20028352,  2.8135885 ,  5.93674058,\n",
       "         6.51078372, 18.74420312],\n",
       "       [ 1.75687148,  1.81371821,  0.05684672,  0.32537408,  4.25038028,\n",
       "         6.52180834,  0.19215395],\n",
       "       [ 0.33912558,  2.24752537,  1.90839979,  0.11800664,  4.50389425,\n",
       "         6.49716077, 12.22114997]])"
      ]
     },
     "execution_count": 18,
     "metadata": {},
     "output_type": "execute_result"
    }
   ],
   "source": [
    "# cluster of 3\n",
    "kmeans = KMeans(n_clusters=3,random_state=42)\n",
    "kmeans.fit(df_final.drop('ticket_id',axis=1))\n",
    "kmeans.cluster_centers_"
   ]
  },
  {
   "cell_type": "code",
   "execution_count": 19,
   "metadata": {},
   "outputs": [
    {
     "data": {
      "text/html": [
       "<div>\n",
       "<style scoped>\n",
       "    .dataframe tbody tr th:only-of-type {\n",
       "        vertical-align: middle;\n",
       "    }\n",
       "\n",
       "    .dataframe tbody tr th {\n",
       "        vertical-align: top;\n",
       "    }\n",
       "\n",
       "    .dataframe thead th {\n",
       "        text-align: right;\n",
       "    }\n",
       "</style>\n",
       "<table border=\"1\" class=\"dataframe\">\n",
       "  <thead>\n",
       "    <tr style=\"text-align: right;\">\n",
       "      <th></th>\n",
       "      <th>burger</th>\n",
       "      <th>fries</th>\n",
       "      <th>salad</th>\n",
       "      <th>shake</th>\n",
       "      <th>location</th>\n",
       "      <th>month</th>\n",
       "      <th>hour</th>\n",
       "    </tr>\n",
       "  </thead>\n",
       "  <tbody>\n",
       "    <tr>\n",
       "      <th>0</th>\n",
       "      <td>3.170616</td>\n",
       "      <td>3.370899</td>\n",
       "      <td>0.200284</td>\n",
       "      <td>2.813588</td>\n",
       "      <td>5.936741</td>\n",
       "      <td>6.510784</td>\n",
       "      <td>18.744203</td>\n",
       "    </tr>\n",
       "    <tr>\n",
       "      <th>1</th>\n",
       "      <td>1.756871</td>\n",
       "      <td>1.813718</td>\n",
       "      <td>0.056847</td>\n",
       "      <td>0.325374</td>\n",
       "      <td>4.250380</td>\n",
       "      <td>6.521808</td>\n",
       "      <td>0.192154</td>\n",
       "    </tr>\n",
       "    <tr>\n",
       "      <th>2</th>\n",
       "      <td>0.339126</td>\n",
       "      <td>2.247525</td>\n",
       "      <td>1.908400</td>\n",
       "      <td>0.118007</td>\n",
       "      <td>4.503894</td>\n",
       "      <td>6.497161</td>\n",
       "      <td>12.221150</td>\n",
       "    </tr>\n",
       "  </tbody>\n",
       "</table>\n",
       "</div>"
      ],
      "text/plain": [
       "     burger     fries     salad     shake  location     month       hour\n",
       "0  3.170616  3.370899  0.200284  2.813588  5.936741  6.510784  18.744203\n",
       "1  1.756871  1.813718  0.056847  0.325374  4.250380  6.521808   0.192154\n",
       "2  0.339126  2.247525  1.908400  0.118007  4.503894  6.497161  12.221150"
      ]
     },
     "execution_count": 19,
     "metadata": {},
     "output_type": "execute_result"
    }
   ],
   "source": [
    "# Create an index for cluster interpretation\n",
    "\n",
    "# Columns for centroids\n",
    "list_col = ['burger', 'fries', 'salad','shake','location','month','hour']\n",
    "# Create an index for cluster interpretation\n",
    "#index = ['First Cluster', 'Second Cluster', 'Third Cluster',\"Fourth Cluster\"]\n",
    "\n",
    "# Create the data frame\n",
    "pd.DataFrame(kmeans.cluster_centers_, columns = list_col)"
   ]
  },
  {
   "cell_type": "code",
   "execution_count": 21,
   "metadata": {},
   "outputs": [
    {
     "name": "stdout",
     "output_type": "stream",
     "text": [
      "Counter({0: 39504, 2: 32227, 1: 28269})\n"
     ]
    }
   ],
   "source": [
    "# The number of samples in each cluster is shown as below\n",
    "print(Counter(kmeans.labels_))"
   ]
  },
  {
   "cell_type": "code",
   "execution_count": null,
   "metadata": {},
   "outputs": [],
   "source": []
  },
  {
   "cell_type": "code",
   "execution_count": 186,
   "metadata": {},
   "outputs": [
    {
     "data": {
      "text/plain": [
       "[<matplotlib.lines.Line2D at 0x7fe130464310>]"
      ]
     },
     "execution_count": 186,
     "metadata": {},
     "output_type": "execute_result"
    },
    {
     "data": {
      "image/png": "[encoded data removed]",
      "text/plain": [
       "<Figure size 432x288 with 1 Axes>"
      ]
     },
     "metadata": {},
     "output_type": "display_data"
    }
   ],
   "source": [
    "df_final['clusters'] = kmeans.labels_\n",
    "# Divide the data into three clusters\n",
    "cl_1 = df_final[df_final[\"clusters\"] == 0]\n",
    "cl_2 = df_final[df_final[\"clusters\"] == 1]\n",
    "cl_3 = df_final[df_final[\"clusters\"] == 2]\n",
    "\n",
    "# create location data frame with number of transactions in each cluster in each month\n",
    "def trans_to_location(cluster):\n",
    "    return pd.DataFrame(sorted(cluster[\"location\"].value_counts().to_dict().items()))[1]\n",
    "\n",
    "# list(sorted(set(df_final[\"hour\"].values))) will return the sorted hour of our data\n",
    "cluster_location_df = pd.DataFrame()\n",
    "cluster_location_df[\"location\"] = list(sorted(set(df_final[\"location\"].values)))\n",
    "cluster_location_df[\"cluster1\"] = trans_to_location(cl_1)\n",
    "cluster_location_df[\"cluster2\"] = trans_to_location(cl_2)\n",
    "cluster_location_df[\"cluster3\"] = trans_to_location(cl_3)\n",
    "\n",
    "plt.plot(cluster_location_df[\"location\"], cluster_location_df[\"cluster1\"], color='red', marker='o')\n",
    "plt.plot(cluster_location_df[\"location\"], cluster_location_df[\"cluster2\"], color='green', marker='o')\n",
    "plt.plot(cluster_location_df[\"location\"], cluster_location_df[\"cluster3\"], color='blue', marker='o')"
   ]
  },
  {
   "cell_type": "code",
   "execution_count": null,
   "metadata": {},
   "outputs": [],
   "source": []
  },
  {
   "cell_type": "code",
   "execution_count": null,
   "metadata": {},
   "outputs": [],
   "source": []
  },
  {
   "cell_type": "code",
   "execution_count": null,
   "metadata": {},
   "outputs": [],
   "source": []
  },
  {
   "cell_type": "code",
   "execution_count": null,
   "metadata": {},
   "outputs": [],
   "source": []
  },
  {
   "cell_type": "code",
   "execution_count": null,
   "metadata": {},
   "outputs": [],
   "source": []
  },
  {
   "cell_type": "code",
   "execution_count": null,
   "metadata": {},
   "outputs": [],
   "source": []
  },
  {
   "cell_type": "markdown",
   "metadata": {},
   "source": [
    "### !!! Kmeans with out including time in the clustering model"
   ]
  },
  {
   "cell_type": "code",
   "execution_count": 22,
   "metadata": {},
   "outputs": [],
   "source": [
    "# cluster with month, time, and location\n",
    "\n",
    "# 1. merge the data frame with month and time\n",
    "\n",
    "df_full = pd.read_csv(\"transactions_n100000.csv\")\n",
    "\n",
    "# Split time and date into month and hour\n",
    "new = df_full[\"order_timestamp\"].str.split(\" \", expand = True)\n",
    "month = new[0].str.split(\"-\",expand = True)[1]\n",
    "hour = new[1].str.split(\":\",expand=True)[0]\n",
    "df_full['month'] = month\n",
    "df_full['hour'] = hour\n",
    "df_full.drop('order_timestamp', axis=1, inplace=True)\n",
    "df_full.drop_duplicates(\"ticket_id\",keep = \"first\",inplace = True) # keep only the unique ticket_id\n",
    "df_final = df_pv.merge(df_full, \"left\", on = \"ticket_id\")\n",
    "\n",
    "# drop item_name, lat, long,item_count\n",
    "df_final.drop(columns = ['item_name',\"item_count\",\"lat\",\"long\"], axis=1, inplace=True)"
   ]
  },
  {
   "cell_type": "code",
   "execution_count": 23,
   "metadata": {},
   "outputs": [
    {
     "data": {
      "image/png": "[encoded data removed]",
      "text/plain": [
       "<Figure size 432x288 with 1 Axes>"
      ]
     },
     "metadata": {},
     "output_type": "display_data"
    }
   ],
   "source": [
    "# Run the k means model with elbow test\n",
    "sse_ls = []\n",
    "for i in range(1,11):\n",
    "    kmeans = KMeans(n_clusters=i)\n",
    "    kmeans.fit(df_final.drop(columns = ['ticket_id','location','month','hour'],axis=1)) # drop ticket id in the model\n",
    "    sse_ls.append(kmeans.inertia_)\n",
    "\n",
    "plt.plot(range(1, 11), sse_ls)\n",
    "plt.xticks(range(1, 11))\n",
    "plt.xlabel(\"Number of Clusters\")\n",
    "plt.ylabel(\"SSE\")\n",
    "plt.show()"
   ]
  },
  {
   "cell_type": "code",
   "execution_count": 26,
   "metadata": {},
   "outputs": [
    {
     "data": {
      "text/plain": [
       "array([[3.93799921, 4.08471913, 0.14671992, 3.36778185],\n",
       "       [1.21417669, 1.49333496, 0.27915827, 0.38647048],\n",
       "       [0.28978587, 2.88993355, 2.60014767, 0.11223234]])"
      ]
     },
     "execution_count": 26,
     "metadata": {},
     "output_type": "execute_result"
    }
   ],
   "source": [
    "# cluster of 3\n",
    "kmeans = KMeans(n_clusters=3,random_state=42)\n",
    "kmeans.fit(df_final.drop(columns = ['ticket_id','location','month','hour'],axis=1))\n",
    "kmeans.cluster_centers_"
   ]
  },
  {
   "cell_type": "code",
   "execution_count": 27,
   "metadata": {},
   "outputs": [
    {
     "data": {
      "text/html": [
       "<div>\n",
       "<style scoped>\n",
       "    .dataframe tbody tr th:only-of-type {\n",
       "        vertical-align: middle;\n",
       "    }\n",
       "\n",
       "    .dataframe tbody tr th {\n",
       "        vertical-align: top;\n",
       "    }\n",
       "\n",
       "    .dataframe thead th {\n",
       "        text-align: right;\n",
       "    }\n",
       "</style>\n",
       "<table border=\"1\" class=\"dataframe\">\n",
       "  <thead>\n",
       "    <tr style=\"text-align: right;\">\n",
       "      <th></th>\n",
       "      <th>burger</th>\n",
       "      <th>fries</th>\n",
       "      <th>salad</th>\n",
       "      <th>shake</th>\n",
       "    </tr>\n",
       "  </thead>\n",
       "  <tbody>\n",
       "    <tr>\n",
       "      <th>0</th>\n",
       "      <td>3.937999</td>\n",
       "      <td>4.084719</td>\n",
       "      <td>0.146720</td>\n",
       "      <td>3.367782</td>\n",
       "    </tr>\n",
       "    <tr>\n",
       "      <th>1</th>\n",
       "      <td>1.214177</td>\n",
       "      <td>1.493335</td>\n",
       "      <td>0.279158</td>\n",
       "      <td>0.386470</td>\n",
       "    </tr>\n",
       "    <tr>\n",
       "      <th>2</th>\n",
       "      <td>0.289786</td>\n",
       "      <td>2.889934</td>\n",
       "      <td>2.600148</td>\n",
       "      <td>0.112232</td>\n",
       "    </tr>\n",
       "  </tbody>\n",
       "</table>\n",
       "</div>"
      ],
      "text/plain": [
       "     burger     fries     salad     shake\n",
       "0  3.937999  4.084719  0.146720  3.367782\n",
       "1  1.214177  1.493335  0.279158  0.386470\n",
       "2  0.289786  2.889934  2.600148  0.112232"
      ]
     },
     "execution_count": 27,
     "metadata": {},
     "output_type": "execute_result"
    }
   ],
   "source": [
    "# Create an index for cluster interpretation\n",
    "\n",
    "# Columns for centroids\n",
    "list_col = ['burger', 'fries', 'salad','shake']\n",
    "# Create an index for cluster interpretation\n",
    "#index = ['First Cluster', 'Second Cluster', 'Third Cluster',\"Fourth Cluster\"]\n",
    "\n",
    "# Create the data frame\n",
    "pd.DataFrame(kmeans.cluster_centers_, columns = list_col)"
   ]
  },
  {
   "cell_type": "code",
   "execution_count": 28,
   "metadata": {},
   "outputs": [
    {
     "name": "stdout",
     "output_type": "stream",
     "text": [
      "Counter({1: 49137, 0: 30548, 2: 20315})\n"
     ]
    }
   ],
   "source": [
    "# number of observations in each cluster\n",
    "print(Counter(kmeans.labels_))"
   ]
  },
  {
   "cell_type": "code",
   "execution_count": 29,
   "metadata": {},
   "outputs": [],
   "source": [
    "df_final['clusters'] = kmeans.labels_\n",
    "# Divide the data into three clusters\n",
    "cl_1 = df_final[df_final[\"clusters\"] == 0]\n",
    "cl_2 = df_final[df_final[\"clusters\"] == 1]\n",
    "cl_3 = df_final[df_final[\"clusters\"] == 2]"
   ]
  },
  {
   "cell_type": "code",
   "execution_count": 30,
   "metadata": {},
   "outputs": [
    {
     "data": {
      "text/plain": [
       "[<matplotlib.lines.Line2D at 0x7fb5ed90bcd0>]"
      ]
     },
     "execution_count": 30,
     "metadata": {},
     "output_type": "execute_result"
    },
    {
     "data": {
      "image/png": "[encoded data removed]",
      "text/plain": [
       "<Figure size 432x288 with 1 Axes>"
      ]
     },
     "metadata": {},
     "output_type": "display_data"
    }
   ],
   "source": [
    "# create month data frame with number of transactions in each cluster in each month\n",
    "def trans_to_month(cluster):\n",
    "    return pd.DataFrame(sorted(cluster[\"month\"].value_counts().to_dict().items()))[1]\n",
    "\n",
    "cluster_month_df = pd.DataFrame()\n",
    "cluster_month_df[\"month\"] = list(range(1,13))\n",
    "cluster_month_df[\"cluster1\"] = trans_to_month(cl_1)\n",
    "cluster_month_df[\"cluster2\"] = trans_to_month(cl_2)\n",
    "cluster_month_df[\"cluster3\"] = trans_to_month(cl_3)\n",
    "\n",
    "# plot monthly transaction\n",
    "plt.plot(cluster_month_df[\"month\"], cluster_month_df[\"cluster1\"], color='red', marker='o')\n",
    "plt.plot(cluster_month_df[\"month\"], cluster_month_df[\"cluster2\"], color='green', marker='o')\n",
    "plt.plot(cluster_month_df[\"month\"], cluster_month_df[\"cluster3\"], color='blue', marker='o')"
   ]
  },
  {
   "cell_type": "code",
   "execution_count": 31,
   "metadata": {},
   "outputs": [
    {
     "data": {
      "text/plain": [
       "[<matplotlib.lines.Line2D at 0x7fb5d2a8e1f0>]"
      ]
     },
     "execution_count": 31,
     "metadata": {},
     "output_type": "execute_result"
    },
    {
     "data": {
      "image/png": "[encoded data removed]",
      "text/plain": [
       "<Figure size 432x288 with 1 Axes>"
      ]
     },
     "metadata": {},
     "output_type": "display_data"
    }
   ],
   "source": [
    "# create hour data frame with number of transactions in each cluster in each month\n",
    "def trans_to_hour(cluster):\n",
    "    return pd.DataFrame(sorted(cluster[\"hour\"].value_counts().to_dict().items()))[1]\n",
    "\n",
    "# list(sorted(set(df_final[\"hour\"].values))) will return the sorted hour of our data\n",
    "cluster_hour_df = pd.DataFrame()\n",
    "cluster_hour_df[\"hour\"] = list(sorted(set(df_final[\"hour\"].values)))\n",
    "cluster_hour_df[\"cluster1\"] = trans_to_hour(cl_1)\n",
    "cluster_hour_df[\"cluster2\"] = trans_to_hour(cl_2)\n",
    "cluster_hour_df[\"cluster3\"] = trans_to_hour(cl_3)\n",
    "\n",
    "plt.plot(cluster_hour_df[\"hour\"], cluster_hour_df[\"cluster1\"], color='red', marker='o')\n",
    "plt.plot(cluster_hour_df[\"hour\"], cluster_hour_df[\"cluster2\"], color='green', marker='o')\n",
    "plt.plot(cluster_hour_df[\"hour\"], cluster_hour_df[\"cluster3\"], color='blue', marker='o')"
   ]
  },
  {
   "cell_type": "code",
   "execution_count": 32,
   "metadata": {},
   "outputs": [
    {
     "data": {
      "text/plain": [
       "[<matplotlib.lines.Line2D at 0x7fb5d2c0bfa0>]"
      ]
     },
     "execution_count": 32,
     "metadata": {},
     "output_type": "execute_result"
    },
    {
     "data": {
      "image/png": "[encoded data removed]",
      "text/plain": [
       "<Figure size 432x288 with 1 Axes>"
      ]
     },
     "metadata": {},
     "output_type": "display_data"
    }
   ],
   "source": [
    "# create location data frame with number of transactions in each cluster in each month\n",
    "def trans_to_location(cluster):\n",
    "    return pd.DataFrame(sorted(cluster[\"location\"].value_counts().to_dict().items()))[1]\n",
    "\n",
    "# list(sorted(set(df_final[\"hour\"].values))) will return the sorted hour of our data\n",
    "cluster_location_df = pd.DataFrame()\n",
    "cluster_location_df[\"location\"] = list(sorted(set(df_final[\"location\"].values)))\n",
    "cluster_location_df[\"cluster1\"] = trans_to_location(cl_1)\n",
    "cluster_location_df[\"cluster2\"] = trans_to_location(cl_2)\n",
    "cluster_location_df[\"cluster3\"] = trans_to_location(cl_3)\n",
    "\n",
    "plt.plot(cluster_location_df[\"location\"], cluster_location_df[\"cluster1\"], color='red', marker='o')\n",
    "plt.plot(cluster_location_df[\"location\"], cluster_location_df[\"cluster2\"], color='green', marker='o')\n",
    "plt.plot(cluster_location_df[\"location\"], cluster_location_df[\"cluster3\"], color='blue', marker='o')"
   ]
  },
  {
   "cell_type": "code",
   "execution_count": 33,
   "metadata": {},
   "outputs": [
    {
     "data": {
      "text/plain": [
       "[<matplotlib.lines.Line2D at 0x7fb5d1cfcbb0>]"
      ]
     },
     "execution_count": 33,
     "metadata": {},
     "output_type": "execute_result"
    },
    {
     "data": {
      "image/png": "[encoded data removed]",
      "text/plain": [
       "<Figure size 432x288 with 1 Axes>"
      ]
     },
     "metadata": {},
     "output_type": "display_data"
    }
   ],
   "source": [
    "# create season data frame with number of transactions in each cluster in each month\n",
    "season_ls = []\n",
    "for i in df_final[\"month\"]:\n",
    "    if i == \"02\" or i == \"03\" or i == \"04\":\n",
    "        season_ls.append(0) #spring\n",
    "    elif i == \"05\" or i == \"06\" or i == \"07\":\n",
    "        season_ls.append(1) #summer\n",
    "    elif i == \"08\" or i == \"09\" or i == \"10\":\n",
    "        season_ls.append(2) #fall\n",
    "    else:\n",
    "        season_ls.append(3) #winter\n",
    "\n",
    "df_final['season'] = season_ls\n",
    "\n",
    "\n",
    "cl_1 = df_final[df_final[\"clusters\"] == 0]\n",
    "cl_2 = df_final[df_final[\"clusters\"] == 1]\n",
    "cl_3 = df_final[df_final[\"clusters\"] == 2]\n",
    "\n",
    "\n",
    "def trans_to_season(cluster):\n",
    "    return pd.DataFrame(sorted(cluster[\"season\"].value_counts().to_dict().items()))[1]\n",
    "\n",
    "cluster_season_df = pd.DataFrame()\n",
    "cluster_season_df[\"season\"] = [\"spring\",'summer','fall','winter']\n",
    "cluster_season_df[\"cluster1\"] = trans_to_season(cl_1)\n",
    "cluster_season_df[\"cluster2\"] = trans_to_season(cl_2)\n",
    "cluster_season_df[\"cluster3\"] = trans_to_season(cl_3)\n",
    "\n",
    "# plot monthly transaction\n",
    "plt.plot(cluster_season_df[\"season\"], cluster_season_df[\"cluster1\"], color='red', marker='o')\n",
    "plt.plot(cluster_season_df[\"season\"], cluster_season_df[\"cluster2\"], color='green', marker='o')\n",
    "plt.plot(cluster_season_df[\"season\"], cluster_season_df[\"cluster3\"], color='blue', marker='o')"
   ]
  },
  {
   "cell_type": "code",
   "execution_count": null,
   "metadata": {},
   "outputs": [],
   "source": []
  },
  {
   "cell_type": "code",
   "execution_count": null,
   "metadata": {},
   "outputs": [],
   "source": []
  },
  {
   "cell_type": "code",
   "execution_count": null,
   "metadata": {},
   "outputs": [],
   "source": []
  },
  {
   "cell_type": "code",
   "execution_count": null,
   "metadata": {},
   "outputs": [],
   "source": []
  },
  {
   "cell_type": "code",
   "execution_count": null,
   "metadata": {},
   "outputs": [],
   "source": []
  },
  {
   "cell_type": "code",
   "execution_count": null,
   "metadata": {},
   "outputs": [],
   "source": []
  },
  {
   "cell_type": "code",
   "execution_count": null,
   "metadata": {},
   "outputs": [],
   "source": []
  },
  {
   "cell_type": "code",
   "execution_count": null,
   "metadata": {},
   "outputs": [],
   "source": []
  },
  {
   "cell_type": "code",
   "execution_count": null,
   "metadata": {},
   "outputs": [],
   "source": []
  },
  {
   "cell_type": "code",
   "execution_count": null,
   "metadata": {},
   "outputs": [],
   "source": []
  }
 ],
 "metadata": {
  "kernelspec": {
   "display_name": "Python 3",
   "language": "python",
   "name": "python3"
  },
  "language_info": {
   "codemirror_mode": {
    "name": "ipython",
    "version": 3
   },
   "file_extension": ".py",
   "mimetype": "text/x-python",
   "name": "python",
   "nbconvert_exporter": "python",
   "pygments_lexer": "ipython3",
   "version": "3.8.5"
  }
 },
 "nbformat": 4,
 "nbformat_minor": 4
}
